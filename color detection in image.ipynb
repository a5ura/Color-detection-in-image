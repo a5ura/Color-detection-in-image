{
 "cells": [
  {
   "cell_type": "code",
   "execution_count": 7,
   "metadata": {},
   "outputs": [],
   "source": [
    "import cv2\n",
    "import numpy as np\n",
    "from tkinter import *\n",
    "\n",
    "# Function to be called when mouse events happen\n",
    "def mouse_event(event, x, y, flags, param):\n",
    "    if event == cv2.EVENT_MOUSEMOVE:  # Mouse move event\n",
    "        # Get the color of the pixel from the image\n",
    "        b, g, r = image[y, x]\n",
    "        color = f'RGB: ({r}, {g}, {b})'\n",
    "        \n",
    "        # Update the label with the current color\n",
    "        color_label.config(text=color)\n",
    "        # Update the background color of the label\n",
    "        color_label.config(bg=f'#{r:02x}{g:02x}{b:02x}')\n",
    "\n",
    "# Load the image\n",
    "image_path = 'path/to/your/image.jpg'  # Update this path\n",
    "image = cv2.imread(image_path)\n",
    "\n",
    "# Check if the image was successfully loaded\n",
    "if image is None:\n",
    "    print(\"Error: Could not read the image.\")\n",
    "else:\n",
    "    # Create a Tkinter window\n",
    "    root = Tk()\n",
    "    root.title('Image Color Detector')\n",
    "\n",
    "    # Create a label to display the color information\n",
    "    color_label = Label(root, text='Hover over the image', width=20)\n",
    "    color_label.pack()\n",
    "\n",
    "    # Display the image using OpenCV\n",
    "    cv2.imshow('Image', image)\n",
    "    cv2.setMouseCallback('Image', mouse_event)\n",
    "\n",
    "    # Start the Tkinter event loop\n",
    "    root.mainloop()\n"
   ]
  }
 ],
 "metadata": {
  "kernelspec": {
   "display_name": "Python 3",
   "language": "python",
   "name": "python3"
  },
  "language_info": {
   "codemirror_mode": {
    "name": "ipython",
    "version": 3
   },
   "file_extension": ".py",
   "mimetype": "text/x-python",
   "name": "python",
   "nbconvert_exporter": "python",
   "pygments_lexer": "ipython3",
   "version": "3.8.3"
  }
 },
 "nbformat": 4,
 "nbformat_minor": 2
}
