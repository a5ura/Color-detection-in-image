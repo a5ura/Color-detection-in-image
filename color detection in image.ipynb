{
 "cells": [
  {
   "cell_type": "code",
   "execution_count": 2,
   "metadata": {},
   "outputs": [],
   "source": [
    "import cv2\n",
    "from tkinter import *\n",
    "from PIL import Image, ImageTk\n",
    "\n",
    "def show_image_with_color_info(image_path):\n",
    "    # Initialize the main Tkinter window\n",
    "    root = Tk()\n",
    "    root.title('Image Color Detector')\n",
    "\n",
    "    # Load the image using OpenCV\n",
    "    image_cv = cv2.imread(image_path)\n",
    "    if image_cv is None:\n",
    "        print(\"Error: Could not read the image.\")\n",
    "        return\n",
    "    # Correctly convert the color format from BGR (OpenCV) to RGB (Tkinter)\n",
    "    image_cv_rgb = cv2.cvtColor(image_cv, cv2.COLOR_BGR2RGB)\n",
    "\n",
    "    # Convert the OpenCV image to a PIL image\n",
    "    image_pil = Image.fromarray(image_cv_rgb)\n",
    "    # Convert the PIL image to a Tkinter image\n",
    "    image_tk = ImageTk.PhotoImage(image_pil)\n",
    "\n",
    "    # Function to update color information on mouse hover\n",
    "    def update_color(event):\n",
    "        x = event.x\n",
    "        y = event.y\n",
    "        # Ensure the coordinates are within the image area\n",
    "        if 0 <= x < image_cv_rgb.shape[1] and 0 <= y < image_cv_rgb.shape[0]:\n",
    "            # Directly use the RGB values without swapping them\n",
    "            r, g, b = image_cv_rgb[y, x]\n",
    "            color = f'RGB: ({r}, {g}, {b})'\n",
    "            color_label.config(text=color, bg=f'#{r:02x}{g:02x}{b:02x}')\n",
    "\n",
    "    # Create a label for displaying color information and pack it at the top\n",
    "    color_label = Label(root, text='Hover over the image', width=30, height=2)\n",
    "    color_label.pack(side=TOP)\n",
    "\n",
    "    # Create and pack the label to display the image below the color information label\n",
    "    image_label = Label(root, image=image_tk)\n",
    "    image_label.pack(side=TOP)\n",
    "\n",
    "    # Bind the mouse movement to the update_color function\n",
    "    image_label.bind('<Motion>', update_color)\n",
    "\n",
    "    # Start the Tkinter main loop\n",
    "    root.mainloop()\n",
    "\n",
    "# Specify the path to your image\n",
    "image_path = 'rainbow1.jpg'  # Update this path accordingly\n",
    "show_image_with_color_info(image_path)\n"
   ]
  }
 ],
 "metadata": {
  "kernelspec": {
   "display_name": "Python 3",
   "language": "python",
   "name": "python3"
  },
  "language_info": {
   "codemirror_mode": {
    "name": "ipython",
    "version": 3
   },
   "file_extension": ".py",
   "mimetype": "text/x-python",
   "name": "python",
   "nbconvert_exporter": "python",
   "pygments_lexer": "ipython3",
   "version": "3.8.3"
  }
 },
 "nbformat": 4,
 "nbformat_minor": 2
}
