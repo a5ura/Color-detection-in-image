import cv2
from tkinter import *
from PIL import Image, ImageTk

def show_image_with_color_info(image_path):
    # Initialize the main Tkinter window
    root = Tk()
    root.title('Image Color Detector')

    # Load the image using OpenCV
    image_cv = cv2.imread(image_path)
    if image_cv is None:
        print("Error: Could not read the image.")
        return
    # Correctly convert the color format from BGR (OpenCV) to RGB (Tkinter)
    image_cv_rgb = cv2.cvtColor(image_cv, cv2.COLOR_BGR2RGB)

    # Convert the OpenCV image to a PIL image
    image_pil = Image.fromarray(image_cv_rgb)
    # Convert the PIL image to a Tkinter image
    image_tk = ImageTk.PhotoImage(image_pil)

    # Function to update color information on mouse hover
    def update_color(event):
        x = event.x
        y = event.y
        # Ensure the coordinates are within the image area
        if 0 <= x < image_cv_rgb.shape[1] and 0 <= y < image_cv_rgb.shape[0]:
            # Directly use the RGB values without swapping them
            r, g, b = image_cv_rgb[y, x]
            color = f'RGB: ({r}, {g}, {b})'
            color_label.config(text=color, bg=f'#{r:02x}{g:02x}{b:02x}')

    # Create a label for displaying color information and pack it at the top
    color_label = Label(root, text='Hover over the image', width=30, height=2)
    color_label.pack(side=TOP)

    # Create and pack the label to display the image below the color information label
    image_label = Label(root, image=image_tk)
    image_label.pack(side=TOP)

    # Bind the mouse movement to the update_color function
    image_label.bind('<Motion>', update_color)

    # Start the Tkinter main loop
    root.mainloop()

# Specify the path to your image
image_path = 'rainbow1.jpg'  # Update this path accordingly
show_image_with_color_info(image_path)
